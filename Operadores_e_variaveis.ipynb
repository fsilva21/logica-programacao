{
  "nbformat": 4,
  "nbformat_minor": 0,
  "metadata": {
    "colab": {
      "provenance": []
    },
    "kernelspec": {
      "name": "python3",
      "display_name": "Python 3"
    },
    "language_info": {
      "name": "python"
    }
  },
  "cells": [
    {
      "cell_type": "markdown",
      "source": [
        "## Operadores Aritméticos"
      ],
      "metadata": {
        "id": "xi9S7NHy664v"
      }
    },
    {
      "cell_type": "code",
      "source": [
        "\"\"\"Operadores Aritméticos\"\"\""
      ],
      "metadata": {
        "id": "8Mtt3zsEs2vF",
        "colab": {
          "base_uri": "https://localhost:8080/",
          "height": 35
        },
        "outputId": "fc80585e-e51a-4b45-c83e-2a73caffcad6"
      },
      "execution_count": null,
      "outputs": [
        {
          "output_type": "execute_result",
          "data": {
            "text/plain": [
              "'Operadores Aritméticos'"
            ],
            "application/vnd.google.colaboratory.intrinsic+json": {
              "type": "string"
            }
          },
          "metadata": {},
          "execution_count": 2
        }
      ]
    },
    {
      "cell_type": "code",
      "source": [
        "5**2"
      ],
      "metadata": {
        "colab": {
          "base_uri": "https://localhost:8080/"
        },
        "id": "s6pFUDsuwXc6",
        "outputId": "9f908a30-7cb1-4355-c9c2-b88b8c34244c"
      },
      "execution_count": null,
      "outputs": [
        {
          "output_type": "execute_result",
          "data": {
            "text/plain": [
              "25"
            ]
          },
          "metadata": {},
          "execution_count": 3
        }
      ]
    },
    {
      "cell_type": "code",
      "source": [
        "5%2"
      ],
      "metadata": {
        "colab": {
          "base_uri": "https://localhost:8080/"
        },
        "id": "tSwqyhZkwfCF",
        "outputId": "52cd40b3-018d-47fd-9fe2-95414ec8b5a0"
      },
      "execution_count": null,
      "outputs": [
        {
          "output_type": "execute_result",
          "data": {
            "text/plain": [
              "1"
            ]
          },
          "metadata": {},
          "execution_count": 4
        }
      ]
    },
    {
      "cell_type": "code",
      "source": [
        "5//2"
      ],
      "metadata": {
        "colab": {
          "base_uri": "https://localhost:8080/"
        },
        "id": "jsx1Y9Mvwg8-",
        "outputId": "a61be3ba-4726-4301-ed4a-0ca018f26be4"
      },
      "execution_count": null,
      "outputs": [
        {
          "output_type": "execute_result",
          "data": {
            "text/plain": [
              "2"
            ]
          },
          "metadata": {},
          "execution_count": 5
        }
      ]
    },
    {
      "cell_type": "code",
      "source": [
        "10//3"
      ],
      "metadata": {
        "colab": {
          "base_uri": "https://localhost:8080/"
        },
        "id": "eI7TPz4pwlbo",
        "outputId": "8fb79212-0925-483c-e5e6-296faee0ee59"
      },
      "execution_count": null,
      "outputs": [
        {
          "output_type": "execute_result",
          "data": {
            "text/plain": [
              "3"
            ]
          },
          "metadata": {},
          "execution_count": 6
        }
      ]
    },
    {
      "cell_type": "code",
      "source": [
        "5/2"
      ],
      "metadata": {
        "colab": {
          "base_uri": "https://localhost:8080/"
        },
        "id": "B9WctvMLwpW6",
        "outputId": "4c10cd9f-8866-46a2-f8a3-5afe25ed50a1"
      },
      "execution_count": null,
      "outputs": [
        {
          "output_type": "execute_result",
          "data": {
            "text/plain": [
              "2.5"
            ]
          },
          "metadata": {},
          "execution_count": 3
        }
      ]
    },
    {
      "cell_type": "code",
      "source": [
        "8**6"
      ],
      "metadata": {
        "colab": {
          "base_uri": "https://localhost:8080/"
        },
        "id": "G3Gk59C-6QbS",
        "outputId": "cbe97063-0220-44fa-b46c-3dae23960799"
      },
      "execution_count": null,
      "outputs": [
        {
          "output_type": "execute_result",
          "data": {
            "text/plain": [
              "262144"
            ]
          },
          "metadata": {},
          "execution_count": 4
        }
      ]
    },
    {
      "cell_type": "markdown",
      "source": [
        "## Operadores Relacionais"
      ],
      "metadata": {
        "id": "mDBUHa_eKOme"
      }
    },
    {
      "cell_type": "code",
      "source": [
        "10<2"
      ],
      "metadata": {
        "colab": {
          "base_uri": "https://localhost:8080/"
        },
        "id": "KC17yS9XKT5v",
        "outputId": "fae978fd-a9da-4b34-da97-92508e78a7ee"
      },
      "execution_count": null,
      "outputs": [
        {
          "output_type": "execute_result",
          "data": {
            "text/plain": [
              "False"
            ]
          },
          "metadata": {},
          "execution_count": 1
        }
      ]
    },
    {
      "cell_type": "code",
      "source": [
        "5<5"
      ],
      "metadata": {
        "colab": {
          "base_uri": "https://localhost:8080/"
        },
        "id": "UM23-JoKKhC2",
        "outputId": "e4a41607-ced6-4c66-8ede-0a6357ec4a66"
      },
      "execution_count": null,
      "outputs": [
        {
          "output_type": "execute_result",
          "data": {
            "text/plain": [
              "False"
            ]
          },
          "metadata": {},
          "execution_count": 2
        }
      ]
    },
    {
      "cell_type": "code",
      "source": [
        "5>=5"
      ],
      "metadata": {
        "colab": {
          "base_uri": "https://localhost:8080/"
        },
        "id": "j4vQwJrpKwwG",
        "outputId": "518a6692-2df0-4158-aca2-ec1ed331197d"
      },
      "execution_count": null,
      "outputs": [
        {
          "output_type": "execute_result",
          "data": {
            "text/plain": [
              "True"
            ]
          },
          "metadata": {},
          "execution_count": 3
        }
      ]
    },
    {
      "cell_type": "code",
      "source": [
        "10>6"
      ],
      "metadata": {
        "colab": {
          "base_uri": "https://localhost:8080/"
        },
        "id": "7_OuarmZKytm",
        "outputId": "f0b35771-8ed0-4483-cc82-4a92beb39c1e"
      },
      "execution_count": null,
      "outputs": [
        {
          "output_type": "execute_result",
          "data": {
            "text/plain": [
              "True"
            ]
          },
          "metadata": {},
          "execution_count": 4
        }
      ]
    },
    {
      "cell_type": "markdown",
      "source": [
        "# Variáveis"
      ],
      "metadata": {
        "id": "nbhkegjAO59S"
      }
    },
    {
      "cell_type": "code",
      "source": [
        "soma = 76+75\n",
        "\n",
        "print(soma)"
      ],
      "metadata": {
        "colab": {
          "base_uri": "https://localhost:8080/"
        },
        "id": "2Pp-m14sO9FU",
        "outputId": "ad6f874b-57e7-47c6-b04e-1f1670c7d3d7"
      },
      "execution_count": null,
      "outputs": [
        {
          "output_type": "stream",
          "name": "stdout",
          "text": [
            "151\n"
          ]
        }
      ]
    },
    {
      "cell_type": "code",
      "source": [
        "print(\"Isso é um print\")\n",
        "x=6\n",
        "print(x)"
      ],
      "metadata": {
        "colab": {
          "base_uri": "https://localhost:8080/"
        },
        "id": "Vfl0F9ydY6es",
        "outputId": "e6c75c81-675a-499b-8388-52bf4304aa6a"
      },
      "execution_count": null,
      "outputs": [
        {
          "output_type": "stream",
          "name": "stdout",
          "text": [
            "Isso é um print\n",
            "6\n"
          ]
        }
      ]
    },
    {
      "cell_type": "code",
      "source": [
        "y=25\n",
        "soma = x+y\n",
        "print(soma)"
      ],
      "metadata": {
        "colab": {
          "base_uri": "https://localhost:8080/"
        },
        "id": "z5YzVXUfY9f-",
        "outputId": "dbe726f8-927c-4424-97db-5b4fbc65155a"
      },
      "execution_count": null,
      "outputs": [
        {
          "output_type": "stream",
          "name": "stdout",
          "text": [
            "31\n"
          ]
        }
      ]
    },
    {
      "cell_type": "code",
      "source": [
        "nome = 'Fabio'\n",
        "print (nome)"
      ],
      "metadata": {
        "colab": {
          "base_uri": "https://localhost:8080/"
        },
        "id": "CrHEBUjvZLXk",
        "outputId": "365e489b-f5ae-4b26-f31f-8725635b5aec"
      },
      "execution_count": null,
      "outputs": [
        {
          "output_type": "stream",
          "name": "stdout",
          "text": [
            "Fabio\n"
          ]
        }
      ]
    },
    {
      "cell_type": "code",
      "source": [
        "x=27\n",
        "y=55\n",
        "print(f\"O valor de x é {x}, e o valor de y é {y}.\")"
      ],
      "metadata": {
        "colab": {
          "base_uri": "https://localhost:8080/"
        },
        "id": "YGYSDpZUbQnn",
        "outputId": "3c77e68e-3271-4d72-d24d-466b034e1f5f"
      },
      "execution_count": null,
      "outputs": [
        {
          "output_type": "stream",
          "name": "stdout",
          "text": [
            "O valor de x é 27, e o valor de y é 55.\n"
          ]
        }
      ]
    },
    {
      "cell_type": "code",
      "source": [
        "z = x*y\n",
        "b = x-y\n",
        "print(f\"{z} é o valor total pago para o funcionario, R${z/30} é o valor ganho por dia, enquanto {b} é o seu gasto diário.\")"
      ],
      "metadata": {
        "colab": {
          "base_uri": "https://localhost:8080/"
        },
        "id": "yVqfe8Bdbmra",
        "outputId": "60ef9273-cf53-4a74-bb3d-aaa37ccab49f"
      },
      "execution_count": null,
      "outputs": [
        {
          "output_type": "stream",
          "name": "stdout",
          "text": [
            "1485 é o valor total pago para o funcionario, R$49.5 é o valor ganho por dia, enquanto -28 é o seu gasto diário.\n"
          ]
        }
      ]
    },
    {
      "cell_type": "markdown",
      "source": [
        "## Atribuições"
      ],
      "metadata": {
        "id": "40l291XFgsln"
      }
    },
    {
      "cell_type": "code",
      "source": [],
      "metadata": {
        "id": "eC81GcuJlpF8"
      },
      "execution_count": null,
      "outputs": []
    },
    {
      "cell_type": "code",
      "source": [
        "#Boa tarde, responda essas questões antes de prosseguir"
      ],
      "metadata": {
        "id": "VnVFcmaMhrD1"
      },
      "execution_count": null,
      "outputs": []
    },
    {
      "cell_type": "code",
      "source": [
        "nome = str(input(\"Qual seu nome? \"))"
      ],
      "metadata": {
        "colab": {
          "base_uri": "https://localhost:8080/"
        },
        "id": "44535XOfhyx5",
        "outputId": "1a33739d-9eae-44ba-a38f-5b85c92fe2ca"
      },
      "execution_count": null,
      "outputs": [
        {
          "name": "stdout",
          "output_type": "stream",
          "text": [
            "Qual seu nome? José\n"
          ]
        }
      ]
    },
    {
      "cell_type": "code",
      "source": [
        "idade = int(input(\"Qual sua idade \"))"
      ],
      "metadata": {
        "colab": {
          "base_uri": "https://localhost:8080/"
        },
        "id": "kbJ047pch_mX",
        "outputId": "571b429c-227b-4617-9c4a-d3c3175b3d25"
      },
      "execution_count": null,
      "outputs": [
        {
          "name": "stdout",
          "output_type": "stream",
          "text": [
            "Qual sua idade 77\n"
          ]
        }
      ]
    },
    {
      "cell_type": "code",
      "source": [
        "salario = float(input(\"Qual seu salário atualmente? \"))"
      ],
      "metadata": {
        "colab": {
          "base_uri": "https://localhost:8080/"
        },
        "id": "iMHg5BcCiHL7",
        "outputId": "4e8cfdba-a3dd-4f8c-8cc5-92b5f8a4a5a9"
      },
      "execution_count": null,
      "outputs": [
        {
          "name": "stdout",
          "output_type": "stream",
          "text": [
            "Qual seu salário atualmente? 1483.55\n"
          ]
        }
      ]
    },
    {
      "cell_type": "code",
      "source": [
        "print(f\"Olá {nome}, você tem {idade} anos e ganha {salario} reais atualmente. Seja bem vindo!\")"
      ],
      "metadata": {
        "colab": {
          "base_uri": "https://localhost:8080/"
        },
        "id": "_yjKdO8UiXxj",
        "outputId": "4a3655a1-156a-4a1c-bd54-6de154e504c9"
      },
      "execution_count": null,
      "outputs": [
        {
          "output_type": "stream",
          "name": "stdout",
          "text": [
            "Olá José, você tem 77 anos e ganha 1483.55 reais atualmente. Seja bem vindo!\n"
          ]
        }
      ]
    },
    {
      "cell_type": "markdown",
      "source": [
        "# Estruturas condicionais"
      ],
      "metadata": {
        "id": "Zple7mPyzB0e"
      }
    },
    {
      "cell_type": "markdown",
      "source": [
        "Exercício 1: Verificar maioridade\n",
        "Peça ao usuário para informar sua idade e informe se ele é maior de idade (18 anos ou mais) ou não."
      ],
      "metadata": {
        "id": "A_G-nT2Y8Ld8"
      }
    },
    {
      "cell_type": "code",
      "source": [
        "nome = str(input(\"Por favor, digite o seu nome: \"))\n",
        "idade = int(input(\"Por favor, digite sua idade: \"))\n",
        "if idade >= 18:\n",
        "  print(f\"Olá {nome}, você atualmente tem {idade} anos e é maior de idade!\")\n",
        "else:\n",
        "  print(f\"Que pena {nome}, você atualmente tem {idade} anos e ainda não é maior de idade.\")"
      ],
      "metadata": {
        "colab": {
          "base_uri": "https://localhost:8080/"
        },
        "id": "Ecn4SN-Z8M8E",
        "outputId": "de7b0422-d41d-47e3-a86b-796834f28cad"
      },
      "execution_count": null,
      "outputs": [
        {
          "output_type": "stream",
          "name": "stdout",
          "text": [
            "Por favor, digite o seu nome: Gilberta\n",
            "Por favor, digite sua idade: 55\n",
            "Olá Gilberta, você atualmente tem 55 anos e é maior de idade!\n"
          ]
        }
      ]
    },
    {
      "cell_type": "markdown",
      "source": [
        "Exercício 2: Classificar números\n",
        "Solicite um número ao usuário e diga se ele é positivo, negativo ou zero.\n",
        "\n"
      ],
      "metadata": {
        "id": "4X8pG3KtAYay"
      }
    },
    {
      "cell_type": "code",
      "source": [
        "num = float(input(\"Digite um número qualquer: \"))\n",
        "if num > 0:\n",
        "  print(f\"O número inserido foi {num:.2f}, que é um número positivo.\")\n",
        "elif num < 0:\n",
        "  print(f\"O número inserido foi {num:.2f}, que é um número negativo.\")\n",
        "else:\n",
        "  print(f\"O número inserido é zero.\")"
      ],
      "metadata": {
        "colab": {
          "base_uri": "https://localhost:8080/"
        },
        "id": "rFeDkOIlAaMr",
        "outputId": "9c682ae6-280f-4581-d039-7b6bcb89266f"
      },
      "execution_count": null,
      "outputs": [
        {
          "output_type": "stream",
          "name": "stdout",
          "text": [
            "Digite um número qualquer: 0000\n",
            "O número inserido é zero.\n"
          ]
        }
      ]
    },
    {
      "cell_type": "markdown",
      "source": [
        "Exercício 3: Calculadora simples\n",
        "Peça ao usuário dois números e uma operação (adição, subtração, multiplicação ou divisão) e exiba o resultado da operação escolhida."
      ],
      "metadata": {
        "id": "Ru6gtKorMMv9"
      }
    },
    {
      "cell_type": "code",
      "source": [
        "print(\"Calculadora básica\")\n",
        "num1 = float(input(\"Digite o primeiro número: \"))\n",
        "operador = str(input(\"Digite '+' para adição. Digite '-' para subtração. Digite '*' para multiplicação. Digite '/' para divisão. \"))\n",
        "num2 = float(input(\"Digite o segundo número: \"))\n",
        "if operador == \"+\":\n",
        "  print(f\"Resultado: {num1 + num2:.2f}\")\n",
        "elif operador == \"-\":\n",
        "  print(f\"Resultado: {num1 - num2:.2f}\")\n",
        "elif operador == \"*\":\n",
        "  print(f\"Resultado: {num1 * num2:.2f}\")\n",
        "elif operador == \"/\":\n",
        "  print(f\"Resultado: {num1 / num2:.2f}\")\n",
        "else:\n",
        "  print(\"Por favor, digite um operador válido e tente novamente.\")"
      ],
      "metadata": {
        "colab": {
          "base_uri": "https://localhost:8080/"
        },
        "id": "lMPkTpoLMOA2",
        "outputId": "89c85868-3fad-4a9a-cf91-56bc1b10e107"
      },
      "execution_count": null,
      "outputs": [
        {
          "output_type": "stream",
          "name": "stdout",
          "text": [
            "Calculadora básica\n",
            "Digite o primeiro número: 10\n",
            "Digite '+' para adição. Digite '-' para subtração. Digite '*' para multiplicação. Digite '/' para divisão. +\n",
            "Digite o segundo número: 12\n",
            "Resultado: 22.00\n"
          ]
        }
      ]
    },
    {
      "cell_type": "markdown",
      "source": [
        "Exercício 4: Avaliação de notas\n",
        "Peça três notas de um aluno, calcule a média e exiba sua situação:\n",
        "Aprovado (média maior ou igual a 7).\n",
        "Recuperação (média entre 5 e 6.9).\n",
        "Reprovado (média menor que 5)."
      ],
      "metadata": {
        "id": "QjcBBG6QUH7K"
      }
    },
    {
      "cell_type": "code",
      "source": [
        "print(\"Calculadora de média escolar\")\n",
        "nota1 = int(input(\"Digite a primeira nota: \"))\n",
        "nota2 = int(input(\"Digite a segunda nota: \"))\n",
        "nota3 = int(input(\"Digite a terceira nota: \"))\n",
        "media = (nota1+nota2+nota3) / 3\n",
        "if media >= 7:\n",
        "  print(f\"Sua média final é: {media:.1f}. Situação: Aprovado\")\n",
        "elif (media >= 5) and (media <= 6.9):\n",
        "  print(f\"Sua média final é: {media:.1f}. Situação: Recuperação\")\n",
        "else:\n",
        "  print(f\"Sua média final é: {media:.1f}. Situação: Reprovado\")"
      ],
      "metadata": {
        "colab": {
          "base_uri": "https://localhost:8080/"
        },
        "id": "ylAyMGoEULH7",
        "outputId": "f032f251-a94c-432f-f978-6ec971525dd9"
      },
      "execution_count": null,
      "outputs": [
        {
          "output_type": "stream",
          "name": "stdout",
          "text": [
            "Calculadora de média escolar\n",
            "Digite a primeira nota: 7\n",
            "Digite a segunda nota: 5\n",
            "Digite a terceira nota: 6\n",
            "Sua média final é: 6.0. Situação: Recuperação\n"
          ]
        }
      ]
    },
    {
      "cell_type": "markdown",
      "source": [],
      "metadata": {
        "id": "tTDVw1LNLKma"
      }
    },
    {
      "cell_type": "markdown",
      "source": [
        " Exercício 1: Operações com Tuplas\n",
        "\n",
        " Crie um programa que peça ao usuário cinco números e armazene-os em uma tupla.\n",
        " Em seguida, exiba:\n",
        "\n",
        "1. Todos os números digitados.\n",
        "2. O maior e o menor número da tupla.\n",
        "3. A soma de todos os números da tupla."
      ],
      "metadata": {
        "id": "KMZKKJq9AOrl"
      }
    },
    {
      "cell_type": "code",
      "source": [
        "n1 = float(input(\"Digite o primeiro número: \"))\n",
        "n2 = float(input(\"Digite o segundo número: \"))\n",
        "n3 = float(input(\"Digite o terceiro número: \"))\n",
        "n4 = float(input(\"Digite o quarto número: \"))\n",
        "n5 = float(input(\"Digite o quinto número: \"))\n",
        "\n",
        "numeros = (n1,n2,n3,n4,n5)\n",
        "\n",
        "print(f\"Os número digitados foram: {numeros}\")\n",
        "print(f\"O maior número digitado foi: {max(numeros)}\")\n",
        "print(f\"O menor número digitado foi: {min(numeros)}\")\n",
        "print(f\"A soma de todos os números é: {sum(numeros)}\")"
      ],
      "metadata": {
        "colab": {
          "base_uri": "https://localhost:8080/"
        },
        "id": "VKTHHHWdA-3F",
        "outputId": "8ad1f93d-a8d5-4b4c-d3cd-191f9204c5c1"
      },
      "execution_count": null,
      "outputs": [
        {
          "output_type": "stream",
          "name": "stdout",
          "text": [
            "Digite o primeiro número: 44.5\n",
            "Digite o segundo número: 71.2\n",
            "Digite o terceiro número: 2.1\n",
            "Digite o quarto número: 9.9\n",
            "Digite o quinto número: 6\n",
            "Os número digitados foram: (44.5, 71.2, 2.1, 9.9, 6.0)\n",
            "O maior número digitado foi: 71.2\n",
            "O menor número digitado foi: 2.1\n",
            "A soma de todos os números é: 133.7\n"
          ]
        }
      ]
    },
    {
      "cell_type": "markdown",
      "source": [
        "# For"
      ],
      "metadata": {
        "id": "aNSMp5Yqsaqh"
      }
    },
    {
      "cell_type": "code",
      "source": [
        "for contador in range(40):\n",
        "  print(contador)\n",
        "  if contador == 16:\n",
        "    break"
      ],
      "metadata": {
        "id": "-sI4OrqRscih"
      },
      "execution_count": null,
      "outputs": []
    },
    {
      "cell_type": "code",
      "source": [
        "lista1 = [\"teste1\",\"teste2\"]\n",
        "\n",
        "for i,pop in enumerate(lista1):\n",
        "  print(i,pop)"
      ],
      "metadata": {
        "colab": {
          "base_uri": "https://localhost:8080/"
        },
        "id": "xaVeAT9DujDM",
        "outputId": "995baade-ad25-4b0f-c59a-738d3b979264"
      },
      "execution_count": null,
      "outputs": [
        {
          "output_type": "stream",
          "name": "stdout",
          "text": [
            "0 teste1\n",
            "1 teste2\n"
          ]
        }
      ]
    },
    {
      "cell_type": "code",
      "source": [
        "lista = [5,7,9]\n",
        "for pop in lista:\n",
        "  pop *= 33\n",
        "  print(pop)"
      ],
      "metadata": {
        "colab": {
          "base_uri": "https://localhost:8080/"
        },
        "id": "AuzQ74BbB7Rl",
        "outputId": "a078facd-36c6-494c-be36-7edcc7412a7f"
      },
      "execution_count": null,
      "outputs": [
        {
          "output_type": "stream",
          "name": "stdout",
          "text": [
            "165\n",
            "231\n",
            "297\n"
          ]
        }
      ]
    },
    {
      "cell_type": "code",
      "source": [
        "num = 3\n",
        "while num < 15:\n",
        "  num *=3\n",
        "else:\n",
        "    print(f\"O valor de num é: {num}\")"
      ],
      "metadata": {
        "colab": {
          "base_uri": "https://localhost:8080/"
        },
        "id": "6yzEhaJRG3Ag",
        "outputId": "2070f22a-5df7-4757-913e-3d625093b0fb"
      },
      "execution_count": null,
      "outputs": [
        {
          "output_type": "stream",
          "name": "stdout",
          "text": [
            "O valor de num é: 27\n"
          ]
        }
      ]
    }
  ]
}