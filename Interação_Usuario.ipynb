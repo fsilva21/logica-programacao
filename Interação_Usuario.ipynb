{
  "nbformat": 4,
  "nbformat_minor": 0,
  "metadata": {
    "colab": {
      "provenance": []
    },
    "kernelspec": {
      "name": "python3",
      "display_name": "Python 3"
    },
    "language_info": {
      "name": "python"
    }
  },
  "cells": [
    {
      "cell_type": "code",
      "execution_count": null,
      "metadata": {
        "id": "3-2qkUoGZjzb"
      },
      "outputs": [],
      "source": []
    },
    {
      "cell_type": "markdown",
      "source": [
        "## Atribuições"
      ],
      "metadata": {
        "id": "40l291XFgsln"
      }
    },
    {
      "cell_type": "code",
      "source": [],
      "metadata": {
        "id": "eC81GcuJlpF8"
      },
      "execution_count": null,
      "outputs": []
    },
    {
      "cell_type": "code",
      "source": [
        "#Boa tarde, responda essas questões antes de prosseguir"
      ],
      "metadata": {
        "id": "VnVFcmaMhrD1"
      },
      "execution_count": null,
      "outputs": []
    },
    {
      "cell_type": "code",
      "source": [
        "nome = str(input(\"Qual seu nome? \"))"
      ],
      "metadata": {
        "colab": {
          "base_uri": "https://localhost:8080/"
        },
        "id": "44535XOfhyx5",
        "outputId": "1a33739d-9eae-44ba-a38f-5b85c92fe2ca"
      },
      "execution_count": null,
      "outputs": [
        {
          "name": "stdout",
          "output_type": "stream",
          "text": [
            "Qual seu nome? José\n"
          ]
        }
      ]
    },
    {
      "cell_type": "code",
      "source": [
        "idade = int(input(\"Qual sua idade \"))"
      ],
      "metadata": {
        "colab": {
          "base_uri": "https://localhost:8080/"
        },
        "id": "kbJ047pch_mX",
        "outputId": "571b429c-227b-4617-9c4a-d3c3175b3d25"
      },
      "execution_count": null,
      "outputs": [
        {
          "name": "stdout",
          "output_type": "stream",
          "text": [
            "Qual sua idade 77\n"
          ]
        }
      ]
    },
    {
      "cell_type": "code",
      "source": [
        "salario = float(input(\"Qual seu salário atualmente? \"))"
      ],
      "metadata": {
        "colab": {
          "base_uri": "https://localhost:8080/"
        },
        "id": "iMHg5BcCiHL7",
        "outputId": "4e8cfdba-a3dd-4f8c-8cc5-92b5f8a4a5a9"
      },
      "execution_count": null,
      "outputs": [
        {
          "name": "stdout",
          "output_type": "stream",
          "text": [
            "Qual seu salário atualmente? 1483.55\n"
          ]
        }
      ]
    },
    {
      "cell_type": "code",
      "source": [
        "print(f\"Olá {nome}, você tem {idade} anos e ganha {salario} reais atualmente. Seja bem vindo!\")"
      ],
      "metadata": {
        "colab": {
          "base_uri": "https://localhost:8080/"
        },
        "id": "_yjKdO8UiXxj",
        "outputId": "4a3655a1-156a-4a1c-bd54-6de154e504c9"
      },
      "execution_count": null,
      "outputs": [
        {
          "output_type": "stream",
          "name": "stdout",
          "text": [
            "Olá José, você tem 77 anos e ganha 1483.55 reais atualmente. Seja bem vindo!\n"
          ]
        }
      ]
    }
  ]
}