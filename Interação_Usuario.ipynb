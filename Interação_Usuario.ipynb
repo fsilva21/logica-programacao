{
  "nbformat": 4,
  "nbformat_minor": 0,
  "metadata": {
    "colab": {
      "provenance": []
    },
    "kernelspec": {
      "name": "python3",
      "display_name": "Python 3"
    },
    "language_info": {
      "name": "python"
    }
  },
  "cells": [
    {
      "cell_type": "code",
      "execution_count": null,
      "metadata": {
        "id": "3-2qkUoGZjzb"
      },
      "outputs": [],
      "source": []
    },
    {
      "cell_type": "markdown",
      "source": [
        "# Estruturas condicionais"
      ],
      "metadata": {
        "id": "Zple7mPyzB0e"
      }
    },
    {
      "cell_type": "markdown",
      "source": [
        "Exercício 1: Verificar maioridade\n",
        "Peça ao usuário para informar sua idade e informe se ele é maior de idade (18 anos ou mais) ou não."
      ],
      "metadata": {
        "id": "A_G-nT2Y8Ld8"
      }
    },
    {
      "cell_type": "code",
      "source": [
        "nome = str(input(\"Por favor, digite o seu nome: \"))\n",
        "idade = int(input(\"Por favor, digite sua idade: \"))\n",
        "if idade >= 18:\n",
        "  print(f\"Olá {nome}, você atualmente tem {idade} anos e é maior de idade!\")\n",
        "else:\n",
        "  print(f\"Que pena {nome}, você atualmente tem {idade} anos e ainda não é maior de idade.\")"
      ],
      "metadata": {
        "colab": {
          "base_uri": "https://localhost:8080/"
        },
        "id": "Ecn4SN-Z8M8E",
        "outputId": "de7b0422-d41d-47e3-a86b-796834f28cad"
      },
      "execution_count": null,
      "outputs": [
        {
          "output_type": "stream",
          "name": "stdout",
          "text": [
            "Por favor, digite o seu nome: Gilberta\n",
            "Por favor, digite sua idade: 55\n",
            "Olá Gilberta, você atualmente tem 55 anos e é maior de idade!\n"
          ]
        }
      ]
    },
    {
      "cell_type": "markdown",
      "source": [
        "Exercício 2: Classificar números\n",
        "Solicite um número ao usuário e diga se ele é positivo, negativo ou zero.\n",
        "\n"
      ],
      "metadata": {
        "id": "4X8pG3KtAYay"
      }
    },
    {
      "cell_type": "code",
      "source": [
        "num = float(input(\"Digite um número qualquer: \"))\n",
        "if num > 0:\n",
        "  print(f\"O número inserido foi {num:.2f}, que é um número positivo.\")\n",
        "elif num < 0:\n",
        "  print(f\"O número inserido foi {num:.2f}, que é um número negativo.\")\n",
        "else:\n",
        "  print(f\"O número inserido é zero.\")"
      ],
      "metadata": {
        "colab": {
          "base_uri": "https://localhost:8080/"
        },
        "id": "rFeDkOIlAaMr",
        "outputId": "9c682ae6-280f-4581-d039-7b6bcb89266f"
      },
      "execution_count": null,
      "outputs": [
        {
          "output_type": "stream",
          "name": "stdout",
          "text": [
            "Digite um número qualquer: 0000\n",
            "O número inserido é zero.\n"
          ]
        }
      ]
    },
    {
      "cell_type": "markdown",
      "source": [
        "Exercício 3: Calculadora simples\n",
        "Peça ao usuário dois números e uma operação (adição, subtração, multiplicação ou divisão) e exiba o resultado da operação escolhida."
      ],
      "metadata": {
        "id": "Ru6gtKorMMv9"
      }
    },
    {
      "cell_type": "code",
      "source": [
        "print(\"Calculadora básica\")\n",
        "num1 = float(input(\"Digite o primeiro número: \"))\n",
        "operador = str(input(\"Digite '+' para adição. Digite '-' para subtração. Digite '*' para multiplicação. Digite '/' para divisão. \"))\n",
        "num2 = float(input(\"Digite o segundo número: \"))\n",
        "if operador == \"+\":\n",
        "  print(f\"Resultado: {num1 + num2:.2f}\")\n",
        "elif operador == \"-\":\n",
        "  print(f\"Resultado: {num1 - num2:.2f}\")\n",
        "elif operador == \"*\":\n",
        "  print(f\"Resultado: {num1 * num2:.2f}\")\n",
        "elif operador == \"/\":\n",
        "  print(f\"Resultado: {num1 / num2:.2f}\")\n",
        "else:\n",
        "  print(\"Por favor, digite um operador válido e tente novamente.\")"
      ],
      "metadata": {
        "colab": {
          "base_uri": "https://localhost:8080/"
        },
        "id": "lMPkTpoLMOA2",
        "outputId": "89c85868-3fad-4a9a-cf91-56bc1b10e107"
      },
      "execution_count": null,
      "outputs": [
        {
          "output_type": "stream",
          "name": "stdout",
          "text": [
            "Calculadora básica\n",
            "Digite o primeiro número: 10\n",
            "Digite '+' para adição. Digite '-' para subtração. Digite '*' para multiplicação. Digite '/' para divisão. +\n",
            "Digite o segundo número: 12\n",
            "Resultado: 22.00\n"
          ]
        }
      ]
    },
    {
      "cell_type": "markdown",
      "source": [
        "Exercício 4: Avaliação de notas\n",
        "Peça três notas de um aluno, calcule a média e exiba sua situação:\n",
        "Aprovado (média maior ou igual a 7).\n",
        "Recuperação (média entre 5 e 6.9).\n",
        "Reprovado (média menor que 5)."
      ],
      "metadata": {
        "id": "QjcBBG6QUH7K"
      }
    },
    {
      "cell_type": "code",
      "source": [
        "print(\"Calculadora de média escolar\")\n",
        "nota1 = int(input(\"Digite a primeira nota: \"))\n",
        "nota2 = int(input(\"Digite a segunda nota: \"))\n",
        "nota3 = int(input(\"Digite a terceira nota: \"))\n",
        "media = (nota1+nota2+nota3) / 3\n",
        "if media >= 7:\n",
        "  print(f\"Sua média final é: {media:.1f}. Situação: Aprovado\")\n",
        "elif (media >= 5) and (media <= 6.9):\n",
        "  print(f\"Sua média final é: {media:.1f}. Situação: Recuperação\")\n",
        "else:\n",
        "  print(f\"Sua média final é: {media:.1f}. Situação: Reprovado\")"
      ],
      "metadata": {
        "colab": {
          "base_uri": "https://localhost:8080/"
        },
        "id": "ylAyMGoEULH7",
        "outputId": "f032f251-a94c-432f-f978-6ec971525dd9"
      },
      "execution_count": null,
      "outputs": [
        {
          "output_type": "stream",
          "name": "stdout",
          "text": [
            "Calculadora de média escolar\n",
            "Digite a primeira nota: 7\n",
            "Digite a segunda nota: 5\n",
            "Digite a terceira nota: 6\n",
            "Sua média final é: 6.0. Situação: Recuperação\n"
          ]
        }
      ]
    },
    {
      "cell_type": "markdown",
      "source": [],
      "metadata": {
        "id": "tTDVw1LNLKma"
      }
    },
    {
      "cell_type": "markdown",
      "source": [
        " Exercício 1: Operações com Tuplas\n",
        "\n",
        " Crie um programa que peça ao usuário cinco números e armazene-os em uma tupla.\n",
        " Em seguida, exiba:\n",
        "\n",
        "1. Todos os números digitados.\n",
        "2. O maior e o menor número da tupla.\n",
        "3. A soma de todos os números da tupla."
      ],
      "metadata": {
        "id": "KMZKKJq9AOrl"
      }
    },
    {
      "cell_type": "code",
      "source": [
        "n1 = float(input(\"Digite o primeiro número: \"))\n",
        "n2 = float(input(\"Digite o segundo número: \"))\n",
        "n3 = float(input(\"Digite o terceiro número: \"))\n",
        "n4 = float(input(\"Digite o quarto número: \"))\n",
        "n5 = float(input(\"Digite o quinto número: \"))\n",
        "\n",
        "numeros = (n1,n2,n3,n4,n5)\n",
        "\n",
        "print(f\"Os número digitados foram: {numeros}\")\n",
        "print(f\"O maior número digitado foi: {max(numeros)}\")\n",
        "print(f\"O menor número digitado foi: {min(numeros)}\")\n",
        "print(f\"A soma de todos os números é: {sum(numeros)}\")"
      ],
      "metadata": {
        "colab": {
          "base_uri": "https://localhost:8080/"
        },
        "id": "VKTHHHWdA-3F",
        "outputId": "8ad1f93d-a8d5-4b4c-d3cd-191f9204c5c1"
      },
      "execution_count": null,
      "outputs": [
        {
          "output_type": "stream",
          "name": "stdout",
          "text": [
            "Digite o primeiro número: 44.5\n",
            "Digite o segundo número: 71.2\n",
            "Digite o terceiro número: 2.1\n",
            "Digite o quarto número: 9.9\n",
            "Digite o quinto número: 6\n",
            "Os número digitados foram: (44.5, 71.2, 2.1, 9.9, 6.0)\n",
            "O maior número digitado foi: 71.2\n",
            "O menor número digitado foi: 2.1\n",
            "A soma de todos os números é: 133.7\n"
          ]
        }
      ]
    }
  ]
}